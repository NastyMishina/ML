{
  "nbformat": 4,
  "nbformat_minor": 0,
  "metadata": {
    "colab": {
      "provenance": []
    },
    "kernelspec": {
      "name": "python3",
      "display_name": "Python 3"
    },
    "language_info": {
      "name": "python"
    }
  },
  "cells": [
    {
      "cell_type": "code",
      "source": [
        "import matplotlib.pyplot as plt\n",
        "import pandas as pd\n",
        "import numpy as np\n",
        "from sklearn.datasets import load_iris\n",
        "from sklearn.linear_model import LogisticRegression, LinearRegression\n",
        "\n",
        "iris = load_iris()\n",
        "X=iris.data\n",
        "y=iris.target"
      ],
      "metadata": {
        "id": "T7KCYLRP5qYX"
      },
      "execution_count": null,
      "outputs": []
    },
    {
      "cell_type": "markdown",
      "source": [
        "1. Изучите разбиение Leave-P-Out. Продемонстрируйте работу этого алгоритма на примере из лабораторной работы."
      ],
      "metadata": {
        "id": "zTiUf5T630I3"
      }
    },
    {
      "cell_type": "code",
      "source": [
        "from sklearn.model_selection import LeavePOut, cross_val_score, cross_validate"
      ],
      "metadata": {
        "id": "dycXTde4317F"
      },
      "execution_count": null,
      "outputs": []
    },
    {
      "cell_type": "code",
      "source": [
        "lpo = LeavePOut(2)\n",
        "\n",
        "lpo.get_n_splits(X)\n",
        "\n",
        "for i, (train_index, test_index) in enumerate(lpo.split(X)):\n",
        "  X_train, X_test = X[train_index], X[test_index]\n",
        "  y_train, y_test = y[train_index], y[test_index]\n",
        "\n",
        "  #print(f\"Fold {i}:\")\n",
        "  #print(f\"  Train: index={train_index}\")\n",
        "  #print(f\"  Test:  index={test_index}\")\n",
        "\n",
        "model = LogisticRegression(solver='liblinear')\n",
        "cv_results = cross_val_score(model,                  # модель\n",
        "                             X,                      # матрица признаков\n",
        "                             y,                      # вектор цели\n",
        "                             cv = lpo,           # тип разбиения\n",
        "                             scoring = 'f1_macro',   # метрика\n",
        "                             n_jobs=-1)              # используются все ядра CPU\n",
        "\n",
        "print(\"Кросс-валидация: \", cv_results)\n",
        "print(\"Среднее по кросс-валидации: \", cv_results.mean())"
      ],
      "metadata": {
        "colab": {
          "base_uri": "https://localhost:8080/"
        },
        "id": "S-VQdOXc9Ofz",
        "outputId": "8806a617-7d5a-49bb-cc09-93db63bde0cf"
      },
      "execution_count": null,
      "outputs": [
        {
          "output_type": "stream",
          "name": "stdout",
          "text": [
            "Кросс-валидация:  [1. 1. 1. ... 1. 1. 1.]\n",
            "Среднее по кросс-валидации:  0.9405219985085758\n"
          ]
        }
      ]
    },
    {
      "cell_type": "markdown",
      "source": [
        "2. Изучите функцию cross_validate(). Продемонстрируйте работу этой функции на тех же данных."
      ],
      "metadata": {
        "id": "PvlWjC1VAu3c"
      }
    },
    {
      "cell_type": "code",
      "source": [
        "cv_results_2 = cross_validate(model, # модель для обучения\n",
        "                            X, y, # Данные\n",
        "                            scoring='f1_macro',\n",
        "                            cv=5) # количество фолдов\n",
        "\n",
        "# выводит словарь с описанием времени обучения, рассчета ошибки\n",
        "  # и результаты ошибок на каждой группе тестовых данных\n",
        "\n",
        "for k in cv_results_2.keys():\n",
        "  print(f'{k}: {cv_results_2[k]}')\n",
        "print(\"Среднее по кросс-валидации: \", cv_results_2['test_score'].mean())"
      ],
      "metadata": {
        "id": "_diRrhda_vsg",
        "colab": {
          "base_uri": "https://localhost:8080/"
        },
        "outputId": "60ea0b94-5b59-43e4-8d49-bf4dba562884"
      },
      "execution_count": null,
      "outputs": [
        {
          "output_type": "stream",
          "name": "stdout",
          "text": [
            "fit_time: [0.00197458 0.00143623 0.00108314 0.00105691 0.00107169]\n",
            "score_time: [0.00248504 0.00141191 0.00141668 0.00140071 0.00133562]\n",
            "test_score: [1.         0.96658312 0.93333333 0.89769821 1.        ]\n",
            "Среднее по кросс-валидации:  0.959522933505973\n"
          ]
        }
      ]
    },
    {
      "cell_type": "markdown",
      "source": [
        "3. Оцените при помощи кросс-валидации другие метрики эффективности для этой же модели."
      ],
      "metadata": {
        "id": "EalnW5YY--tO"
      }
    },
    {
      "cell_type": "code",
      "source": [
        "cv_results_3 = cross_validate(model, X, y,\n",
        "                             scoring=['accuracy', 'f1_micro', 'f1_macro', 'f1_weighted', 'precision_weighted', 'recall_weighted'],\n",
        "                             cv=5)\n",
        "\n",
        "_ = [print(f' Среднее значение {k} : {cv_results_3[k].mean().round(3)}') for k in cv_results_3.keys()]"
      ],
      "metadata": {
        "colab": {
          "base_uri": "https://localhost:8080/"
        },
        "id": "u5PsLQwT8CR2",
        "outputId": "e73906eb-8b60-4569-e09a-81f7a89273fe"
      },
      "execution_count": null,
      "outputs": [
        {
          "output_type": "stream",
          "name": "stdout",
          "text": [
            " Среднее значение fit_time : 0.139\n",
            " Среднее значение score_time : 0.011\n",
            " Среднее значение test_accuracy : 0.967\n",
            " Среднее значение test_f1_micro : 0.967\n",
            " Среднее значение test_f1_macro : 0.966\n",
            " Среднее значение test_f1_weighted : 0.966\n",
            " Среднее значение test_precision_weighted : 0.971\n",
            " Среднее значение test_recall_weighted : 0.967\n"
          ]
        }
      ]
    },
    {
      "cell_type": "markdown",
      "source": [
        "4. Сравните кросс-валидированные результаты работы нескольких моделей на одних и тех же данных."
      ],
      "metadata": {
        "id": "4Q8KN2k3HJ0H"
      }
    },
    {
      "cell_type": "code",
      "source": [
        "from sklearn.ensemble import RandomForestClassifier\n",
        "from sklearn.tree import DecisionTreeClassifier\n",
        "from sklearn.neighbors import KNeighborsClassifier\n",
        "from sklearn.naive_bayes import GaussianNB\n",
        "from sklearn.svm import SVC, SVR\n",
        "from sklearn.neural_network import MLPClassifier"
      ],
      "metadata": {
        "id": "Gnq2KqouIM67"
      },
      "execution_count": null,
      "outputs": []
    },
    {
      "cell_type": "code",
      "source": [
        "import warnings\n",
        "warnings.filterwarnings(\"ignore\")"
      ],
      "metadata": {
        "id": "L_YJ_JIENK8c"
      },
      "execution_count": null,
      "outputs": []
    },
    {
      "cell_type": "code",
      "source": [
        "models = {\"Метод опорных векторов\": SVC(),\n",
        "          \"Перцептрон\": MLPClassifier(),\n",
        "          \"Деревья решений\": DecisionTreeClassifier(),\n",
        "          \"Метод k ближайших соседей\": KNeighborsClassifier(),\n",
        "          \"Гауссовский Наивный Байес\": GaussianNB(),\n",
        "          \"Случайный лес\" :RandomForestClassifier()\n",
        "          }\n",
        "\n",
        "for name, model in models.items():\n",
        "  cv_results_4 = cross_validate(model, X, y,\n",
        "                             scoring=['f1_weighted'],\n",
        "                             cv=5)\n",
        "\n",
        "  _ = [print(f' Среднее значение {k} модели {name}  : {cv_results_4[k].mean().round(3)}') for k in ['test_f1_weighted']]"
      ],
      "metadata": {
        "colab": {
          "base_uri": "https://localhost:8080/"
        },
        "id": "2TKzxUJVEbKD",
        "outputId": "e67bf8b7-2614-4fa6-d43d-b135a61c09ea"
      },
      "execution_count": null,
      "outputs": [
        {
          "output_type": "stream",
          "name": "stdout",
          "text": [
            " Среднее значение test_f1_weighted модели Метод опорных векторов  : 0.967\n",
            " Среднее значение test_f1_weighted модели Перцептрон  : 0.987\n",
            " Среднее значение test_f1_weighted модели Деревья решений  : 0.967\n",
            " Среднее значение test_f1_weighted модели Метод k ближайших соседей  : 0.973\n",
            " Среднее значение test_f1_weighted модели Гауссовский Наивный Байес  : 0.953\n",
            " Среднее значение test_f1_weighted модели Случайный лес  : 0.966\n"
          ]
        }
      ]
    },
    {
      "cell_type": "markdown",
      "source": [
        "5. Повторите анализ на другом датасете: встроенном наборе данных о диабете."
      ],
      "metadata": {
        "id": "DMYuTZ6mNWEY"
      }
    },
    {
      "cell_type": "code",
      "source": [
        "from sklearn.datasets import load_diabetes\n",
        "from sklearn.metrics import mean_squared_error, r2_score, mean_absolute_percentage_error"
      ],
      "metadata": {
        "id": "ZMfGknmbKtFw"
      },
      "execution_count": null,
      "outputs": []
    },
    {
      "cell_type": "code",
      "source": [
        "diabetes = load_diabetes()\n",
        "X_d = diabetes.data\n",
        "y_d = diabetes.target\n",
        "\n",
        "metrics_MSE = []\n",
        "metrics_r2 = []\n",
        "model_d = SVR()"
      ],
      "metadata": {
        "id": "XUFsq3GNO_HN"
      },
      "execution_count": null,
      "outputs": []
    },
    {
      "cell_type": "code",
      "source": [
        "y_d[:10]"
      ],
      "metadata": {
        "colab": {
          "base_uri": "https://localhost:8080/"
        },
        "id": "7NkhXWTIYZfN",
        "outputId": "ae8aa174-be2f-4257-9a80-b332f77a134b"
      },
      "execution_count": null,
      "outputs": [
        {
          "output_type": "execute_result",
          "data": {
            "text/plain": [
              "array([151.,  75., 141., 206., 135.,  97., 138.,  63., 110., 310.])"
            ]
          },
          "metadata": {},
          "execution_count": 98
        }
      ]
    },
    {
      "cell_type": "code",
      "source": [
        "from sklearn.model_selection import KFold, StratifiedKFold, LeaveOneOut"
      ],
      "metadata": {
        "id": "X5KvgS4kPFHK"
      },
      "execution_count": null,
      "outputs": []
    },
    {
      "cell_type": "code",
      "source": [
        "kf = KFold(n_splits = 5,shuffle=True, random_state=15)\n",
        "\n",
        "for i, (train_index, test_index) in enumerate(kf.split(y_d)):\n",
        "  X_train, X_test = X_d[train_index], X_d[test_index]\n",
        "  y_train, y_test = y_d[train_index], y_d[test_index]\n",
        "\n",
        "  model_d.fit(X_train, y_train)\n",
        "  y_pred = model_d.predict(X_test)\n",
        "\n",
        "  metrics_MSE.append(mean_squared_error(y_test, y_pred))\n",
        "  metrics_r2.append(r2_score(y_test, y_pred))\n",
        "\n",
        "print(\"Среднее r2 по кросс-валидации: \", np.array(metrics_r2).mean().round(3))\n",
        "print(\"Среднее MSE по кросс-валидации: \", np.array(metrics_MSE).mean().round(3))"
      ],
      "metadata": {
        "colab": {
          "base_uri": "https://localhost:8080/"
        },
        "id": "3nNs9wxxQOSU",
        "outputId": "f191130f-7bde-429e-aab6-3cacaec1cd93"
      },
      "execution_count": null,
      "outputs": [
        {
          "output_type": "stream",
          "name": "stdout",
          "text": [
            "Среднее r2 по кросс-валидации:  0.15\n",
            "Среднее MSE по кросс-валидации:  5020.889\n"
          ]
        }
      ]
    },
    {
      "cell_type": "code",
      "source": [
        "methods = {\"k_fold разбиение\" : KFold(n_splits = 3,shuffle=True, random_state=15),\n",
        "           \"Stratified k-Fold\" : StratifiedKFold(n_splits=3,shuffle=True, random_state=15),\n",
        "           #\"Leave One Out\" : LeaveOneOut()\n",
        "           }"
      ],
      "metadata": {
        "id": "I_i-uhe1ToLD"
      },
      "execution_count": null,
      "outputs": []
    },
    {
      "cell_type": "code",
      "source": [
        "def cross_val(X, y, model, methods=methods):\n",
        "  for name, method in methods.items():\n",
        "    cv_results_5 = cross_val_score(model,\n",
        "                                X,\n",
        "                                y,\n",
        "                                cv = method,\n",
        "                                scoring = 'r2',\n",
        "                                n_jobs=-1)\n",
        "\n",
        "    print(f\"{name} \\nКросс-валидация:  {cv_results_5}\")\n",
        "    print(f\"Среднее по кросс-валидации:  {cv_results_5.mean().round(3)}\")\n",
        "    print(f\"Дисперсия по кросс-валидации: {cv_results_5.std().round(3)} \\n\")"
      ],
      "metadata": {
        "id": "cXGxFA9RSjRu"
      },
      "execution_count": null,
      "outputs": []
    },
    {
      "cell_type": "code",
      "source": [
        "cross_val(X_d, y_d, model_d)"
      ],
      "metadata": {
        "colab": {
          "base_uri": "https://localhost:8080/"
        },
        "id": "kWsQDdRyTdpk",
        "outputId": "f6d68aca-4fce-4057-e942-c0a561680252"
      },
      "execution_count": null,
      "outputs": [
        {
          "output_type": "stream",
          "name": "stdout",
          "text": [
            "k_fold разбиение \n",
            "Кросс-валидация:  [0.14964348 0.12256466 0.15055728]\n",
            "Среднее по кросс-валидации:  0.141\n",
            "Дисперсия по кросс-валидации: 0.013 \n",
            "\n",
            "Stratified k-Fold \n",
            "Кросс-валидация:  [0.13581041 0.13826692 0.14445479]\n",
            "Среднее по кросс-валидации:  0.14\n",
            "Дисперсия по кросс-валидации: 0.004 \n",
            "\n"
          ]
        }
      ]
    },
    {
      "cell_type": "markdown",
      "source": [
        "6. Сделайте k-блочную перекрёстную проверку (KFold) модели логистической регрессии, предварительно стандартизировав данные. Для этого создайте конвейер с помощью make_pipeline из библиотеки sklearn.pipeline, который будет стандартизировать, а затем выполнять логистическую регрессию."
      ],
      "metadata": {
        "id": "ZJDFesI0buB2"
      }
    },
    {
      "cell_type": "code",
      "source": [
        "from sklearn.pipeline import make_pipeline\n",
        "from sklearn.preprocessing import StandardScaler"
      ],
      "metadata": {
        "id": "BsQMuc0MWpft"
      },
      "execution_count": null,
      "outputs": []
    },
    {
      "cell_type": "code",
      "source": [
        "kf = KFold(n_splits = 5,shuffle=True, random_state=15)\n",
        "\n",
        "for i, (train_index, test_index) in enumerate(kf.split(y)):\n",
        "  X6_train, X6_test = X[train_index], X[test_index]\n",
        "  y6_train, y6_test = y[train_index], y[test_index]\n",
        "\n",
        "pipe = make_pipeline(StandardScaler(), LogisticRegression())\n",
        "\n",
        "pipe.fit(X6_train, y6_train)\n",
        "\n",
        "y6_pred = pipe.predict(X6_test)\n",
        "\n",
        "print(f\"R2-score: {r2_score(y6_test, y6_pred).round(3)}\")\n",
        "print(f\"MAPE: {mean_absolute_percentage_error(y6_test, y6_pred).round(3)}\")"
      ],
      "metadata": {
        "colab": {
          "base_uri": "https://localhost:8080/"
        },
        "id": "1VjQzyfdmdty",
        "outputId": "4bc4055a-ecde-4311-b525-c9f50b72b50a"
      },
      "execution_count": null,
      "outputs": [
        {
          "output_type": "stream",
          "name": "stdout",
          "text": [
            "R2-score: 0.905\n",
            "MAPE: 0.033\n"
          ]
        }
      ]
    }
  ]
}