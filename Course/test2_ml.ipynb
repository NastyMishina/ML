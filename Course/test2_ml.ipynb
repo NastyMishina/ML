{
 "cells": [
  {
   "cell_type": "code",
   "execution_count": 2,
   "id": "ef8e105c",
   "metadata": {},
   "outputs": [],
   "source": [
    "import numpy as np\n",
    "import pandas as pd\n",
    "import matplotlib.pyplot as plt\n",
    "import sklearn.datasets\n",
    "import seaborn as sns\n",
    "import time"
   ]
  },
  {
   "cell_type": "markdown",
   "id": "fe16105d",
   "metadata": {},
   "source": [
    "1. (1 балл) Загрузите предложенный вам датасет с помощью функции `sklearn.datasets.fetch_openml`. Выведите текстовое описание загруженного датасета. Обозначьте целевую переменную за `y`, а остальные данные за `X`."
   ]
  },
  {
   "cell_type": "code",
   "execution_count": 3,
   "id": "88871657",
   "metadata": {},
   "outputs": [
    {
     "name": "stdout",
     "output_type": "stream",
     "text": [
      "**Author**:   \n",
      "**Source**: Unknown - Date unknown  \n",
      "**Please cite**:   \n",
      "\n",
      "CODING:\n",
      "\n",
      "ITEM 1 = BUSINESS CONDIDIONS 6 MONTHS FROM NOW  (CONFERENCE BOARD)\n",
      "ITEM 2 = JOBS 6 MONTHS FROM NOW (CONFERENCE BOARD)\n",
      "ITEM 3 = FAMILY INCOME 6 MONTHS FROM NOW  (CONFERENCE BOARD)\n",
      "ITEM 4 = BUSINESS CONDITIONS A YEAR FROM NOW  (MICHIGAN)\n",
      "ITEM 5 = JOBS DURING THE COMING 12 MONTHS  (MICHIGAN)\n",
      "ITEM 6 = FAMILY INCOME DURING THE NEXT 12 MONTHS  (MICHIGAN)\n",
      "\n",
      "RESPONSE P = PESSIMISTIC\n",
      "RESPONSE N = NEUTRAL\n",
      "RESPONSE O = OPTIMISTIC\n",
      "\n",
      "\n",
      "1992 DATA:\n",
      "\n",
      "\n",
      "\n",
      "\n",
      "I AM GORDON BECHTEL AT E-MAIL BECHTEL AT NERVM.NERDC.UFL.EDU\n",
      "I AM WILLING TO HELP THOSE WHO HAVE PROBLEMS WITH THESE DATA.\n",
      "\n",
      "\n",
      "(3) THE CONFERENCE BOARD HAS GIVEN ITS PERMISSION TO PLACE ITS THREE\n",
      "\"6 MONTH\" ITEMS IN STATLIB.\n",
      "THE SURVEY RESEARCH CENTER AT THE UNIVERSITY OF MICHIGAN HAS GIVEN\n",
      "ITS PERMISSION TO PLACE ITS THREE \"12 MONTH\" ITEMS IN STATLIB.\n",
      "\n",
      "\n",
      "Information about the dataset\n",
      "CLASSTYPE: nominal\n",
      "CLASSINDEX: 1\n",
      "\n",
      "Downloaded from openml.org.\n"
     ]
    }
   ],
   "source": [
    "data_load = sklearn.datasets.fetch_openml(name='confidence', version=1)\n",
    "print(data_load['DESCR'])"
   ]
  },
  {
   "cell_type": "code",
   "execution_count": 4,
   "id": "ca9a4c8b",
   "metadata": {},
   "outputs": [
    {
     "data": {
      "text/html": [
       "<div>\n",
       "<style scoped>\n",
       "    .dataframe tbody tr th:only-of-type {\n",
       "        vertical-align: middle;\n",
       "    }\n",
       "\n",
       "    .dataframe tbody tr th {\n",
       "        vertical-align: top;\n",
       "    }\n",
       "\n",
       "    .dataframe thead th {\n",
       "        text-align: right;\n",
       "    }\n",
       "</style>\n",
       "<table border=\"1\" class=\"dataframe\">\n",
       "  <thead>\n",
       "    <tr style=\"text-align: right;\">\n",
       "      <th></th>\n",
       "      <th>P</th>\n",
       "      <th>N</th>\n",
       "      <th>O</th>\n",
       "      <th>Target</th>\n",
       "    </tr>\n",
       "  </thead>\n",
       "  <tbody>\n",
       "    <tr>\n",
       "      <th>0</th>\n",
       "      <td>668.9</td>\n",
       "      <td>2100.4</td>\n",
       "      <td>641.2</td>\n",
       "      <td>BUSINESS_CONDIDIONS_6_MONTHS_FROM_NOW</td>\n",
       "    </tr>\n",
       "    <tr>\n",
       "      <th>1</th>\n",
       "      <td>984.3</td>\n",
       "      <td>1920.2</td>\n",
       "      <td>502.6</td>\n",
       "      <td>JOBS_6_MONTHS_FROM_NOW</td>\n",
       "    </tr>\n",
       "    <tr>\n",
       "      <th>2</th>\n",
       "      <td>433.2</td>\n",
       "      <td>2329.1</td>\n",
       "      <td>658.5</td>\n",
       "      <td>FAMILY_INCOME_6_MONTHS_FROM_NOW</td>\n",
       "    </tr>\n",
       "    <tr>\n",
       "      <th>3</th>\n",
       "      <td>132.6</td>\n",
       "      <td>219.3</td>\n",
       "      <td>147.9</td>\n",
       "      <td>BUSINESS_CONDITIONS_A_YEAR_FROM_NOW</td>\n",
       "    </tr>\n",
       "    <tr>\n",
       "      <th>4</th>\n",
       "      <td>290.7</td>\n",
       "      <td>168.3</td>\n",
       "      <td>45.9</td>\n",
       "      <td>JOBS_DURING_THE_COMING_12_MONTHS</td>\n",
       "    </tr>\n",
       "    <tr>\n",
       "      <th>...</th>\n",
       "      <td>...</td>\n",
       "      <td>...</td>\n",
       "      <td>...</td>\n",
       "      <td>...</td>\n",
       "    </tr>\n",
       "    <tr>\n",
       "      <th>67</th>\n",
       "      <td>565.5</td>\n",
       "      <td>1884.0</td>\n",
       "      <td>692.6</td>\n",
       "      <td>JOBS_6_MONTHS_FROM_NOW</td>\n",
       "    </tr>\n",
       "    <tr>\n",
       "      <th>68</th>\n",
       "      <td>339.9</td>\n",
       "      <td>2128.6</td>\n",
       "      <td>689.4</td>\n",
       "      <td>FAMILY_INCOME_6_MONTHS_FROM_NOW</td>\n",
       "    </tr>\n",
       "    <tr>\n",
       "      <th>69</th>\n",
       "      <td>55.4</td>\n",
       "      <td>191.5</td>\n",
       "      <td>236.9</td>\n",
       "      <td>BUSINESS_CONDITIONS_A_YEAR_FROM_NOW</td>\n",
       "    </tr>\n",
       "    <tr>\n",
       "      <th>70</th>\n",
       "      <td>131.0</td>\n",
       "      <td>231.8</td>\n",
       "      <td>136.1</td>\n",
       "      <td>JOBS_DURING_THE_COMING_12_MONTHS</td>\n",
       "    </tr>\n",
       "    <tr>\n",
       "      <th>71</th>\n",
       "      <td>50.4</td>\n",
       "      <td>126.0</td>\n",
       "      <td>322.6</td>\n",
       "      <td>FAMILY_INCOME_DURING_THE_NEXT_12_MONTHS</td>\n",
       "    </tr>\n",
       "  </tbody>\n",
       "</table>\n",
       "<p>72 rows × 4 columns</p>\n",
       "</div>"
      ],
      "text/plain": [
       "        P       N      O                                   Target\n",
       "0   668.9  2100.4  641.2    BUSINESS_CONDIDIONS_6_MONTHS_FROM_NOW\n",
       "1   984.3  1920.2  502.6                   JOBS_6_MONTHS_FROM_NOW\n",
       "2   433.2  2329.1  658.5          FAMILY_INCOME_6_MONTHS_FROM_NOW\n",
       "3   132.6   219.3  147.9      BUSINESS_CONDITIONS_A_YEAR_FROM_NOW\n",
       "4   290.7   168.3   45.9         JOBS_DURING_THE_COMING_12_MONTHS\n",
       "..    ...     ...    ...                                      ...\n",
       "67  565.5  1884.0  692.6                   JOBS_6_MONTHS_FROM_NOW\n",
       "68  339.9  2128.6  689.4          FAMILY_INCOME_6_MONTHS_FROM_NOW\n",
       "69   55.4   191.5  236.9      BUSINESS_CONDITIONS_A_YEAR_FROM_NOW\n",
       "70  131.0   231.8  136.1         JOBS_DURING_THE_COMING_12_MONTHS\n",
       "71   50.4   126.0  322.6  FAMILY_INCOME_DURING_THE_NEXT_12_MONTHS\n",
       "\n",
       "[72 rows x 4 columns]"
      ]
     },
     "execution_count": 4,
     "metadata": {},
     "output_type": "execute_result"
    }
   ],
   "source": [
    "data = pd.DataFrame(data=data_load.data, columns=data_load['feature_names'])\n",
    "data['Target'] = data_load.target\n",
    "data"
   ]
  },
  {
   "cell_type": "code",
   "execution_count": 5,
   "id": "5669b392",
   "metadata": {},
   "outputs": [
    {
     "data": {
      "text/plain": [
       "0       BUSINESS_CONDIDIONS_6_MONTHS_FROM_NOW\n",
       "1                      JOBS_6_MONTHS_FROM_NOW\n",
       "2             FAMILY_INCOME_6_MONTHS_FROM_NOW\n",
       "3         BUSINESS_CONDITIONS_A_YEAR_FROM_NOW\n",
       "4            JOBS_DURING_THE_COMING_12_MONTHS\n",
       "                       ...                   \n",
       "67                     JOBS_6_MONTHS_FROM_NOW\n",
       "68            FAMILY_INCOME_6_MONTHS_FROM_NOW\n",
       "69        BUSINESS_CONDITIONS_A_YEAR_FROM_NOW\n",
       "70           JOBS_DURING_THE_COMING_12_MONTHS\n",
       "71    FAMILY_INCOME_DURING_THE_NEXT_12_MONTHS\n",
       "Name: Target, Length: 72, dtype: category\n",
       "Categories (6, object): ['BUSINESS_CONDIDIONS_6_MONTHS_FROM_NOW', 'BUSINESS_CONDITIONS_A_YEAR_FROM_NOW', 'FAMILY_INCOME_6_MONTHS_FROM_NOW', 'FAMILY_INCOME_DURING_THE_NEXT_12_MONTHS', 'JOBS_6_MONTHS_FROM_NOW', 'JOBS_DURING_THE_COMING_12_MONTHS']"
      ]
     },
     "execution_count": 5,
     "metadata": {},
     "output_type": "execute_result"
    }
   ],
   "source": [
    "y_for_code = data['Target']\n",
    "y_for_code"
   ]
  },
  {
   "cell_type": "code",
   "execution_count": 6,
   "id": "c8fb235c",
   "metadata": {},
   "outputs": [],
   "source": [
    "from sklearn.preprocessing import OrdinalEncoder\n",
    "ord_enc = OrdinalEncoder()"
   ]
  },
  {
   "cell_type": "code",
   "execution_count": 7,
   "id": "7ea7f173",
   "metadata": {},
   "outputs": [
    {
     "data": {
      "text/html": [
       "<div>\n",
       "<style scoped>\n",
       "    .dataframe tbody tr th:only-of-type {\n",
       "        vertical-align: middle;\n",
       "    }\n",
       "\n",
       "    .dataframe tbody tr th {\n",
       "        vertical-align: top;\n",
       "    }\n",
       "\n",
       "    .dataframe thead th {\n",
       "        text-align: right;\n",
       "    }\n",
       "</style>\n",
       "<table border=\"1\" class=\"dataframe\">\n",
       "  <thead>\n",
       "    <tr style=\"text-align: right;\">\n",
       "      <th></th>\n",
       "      <th>P</th>\n",
       "      <th>N</th>\n",
       "      <th>O</th>\n",
       "      <th>Target</th>\n",
       "      <th>code</th>\n",
       "    </tr>\n",
       "  </thead>\n",
       "  <tbody>\n",
       "    <tr>\n",
       "      <th>0</th>\n",
       "      <td>668.9</td>\n",
       "      <td>2100.4</td>\n",
       "      <td>641.2</td>\n",
       "      <td>BUSINESS_CONDIDIONS_6_MONTHS_FROM_NOW</td>\n",
       "      <td>0.0</td>\n",
       "    </tr>\n",
       "    <tr>\n",
       "      <th>1</th>\n",
       "      <td>984.3</td>\n",
       "      <td>1920.2</td>\n",
       "      <td>502.6</td>\n",
       "      <td>JOBS_6_MONTHS_FROM_NOW</td>\n",
       "      <td>4.0</td>\n",
       "    </tr>\n",
       "    <tr>\n",
       "      <th>2</th>\n",
       "      <td>433.2</td>\n",
       "      <td>2329.1</td>\n",
       "      <td>658.5</td>\n",
       "      <td>FAMILY_INCOME_6_MONTHS_FROM_NOW</td>\n",
       "      <td>2.0</td>\n",
       "    </tr>\n",
       "    <tr>\n",
       "      <th>3</th>\n",
       "      <td>132.6</td>\n",
       "      <td>219.3</td>\n",
       "      <td>147.9</td>\n",
       "      <td>BUSINESS_CONDITIONS_A_YEAR_FROM_NOW</td>\n",
       "      <td>1.0</td>\n",
       "    </tr>\n",
       "    <tr>\n",
       "      <th>4</th>\n",
       "      <td>290.7</td>\n",
       "      <td>168.3</td>\n",
       "      <td>45.9</td>\n",
       "      <td>JOBS_DURING_THE_COMING_12_MONTHS</td>\n",
       "      <td>5.0</td>\n",
       "    </tr>\n",
       "    <tr>\n",
       "      <th>...</th>\n",
       "      <td>...</td>\n",
       "      <td>...</td>\n",
       "      <td>...</td>\n",
       "      <td>...</td>\n",
       "      <td>...</td>\n",
       "    </tr>\n",
       "    <tr>\n",
       "      <th>67</th>\n",
       "      <td>565.5</td>\n",
       "      <td>1884.0</td>\n",
       "      <td>692.6</td>\n",
       "      <td>JOBS_6_MONTHS_FROM_NOW</td>\n",
       "      <td>4.0</td>\n",
       "    </tr>\n",
       "    <tr>\n",
       "      <th>68</th>\n",
       "      <td>339.9</td>\n",
       "      <td>2128.6</td>\n",
       "      <td>689.4</td>\n",
       "      <td>FAMILY_INCOME_6_MONTHS_FROM_NOW</td>\n",
       "      <td>2.0</td>\n",
       "    </tr>\n",
       "    <tr>\n",
       "      <th>69</th>\n",
       "      <td>55.4</td>\n",
       "      <td>191.5</td>\n",
       "      <td>236.9</td>\n",
       "      <td>BUSINESS_CONDITIONS_A_YEAR_FROM_NOW</td>\n",
       "      <td>1.0</td>\n",
       "    </tr>\n",
       "    <tr>\n",
       "      <th>70</th>\n",
       "      <td>131.0</td>\n",
       "      <td>231.8</td>\n",
       "      <td>136.1</td>\n",
       "      <td>JOBS_DURING_THE_COMING_12_MONTHS</td>\n",
       "      <td>5.0</td>\n",
       "    </tr>\n",
       "    <tr>\n",
       "      <th>71</th>\n",
       "      <td>50.4</td>\n",
       "      <td>126.0</td>\n",
       "      <td>322.6</td>\n",
       "      <td>FAMILY_INCOME_DURING_THE_NEXT_12_MONTHS</td>\n",
       "      <td>3.0</td>\n",
       "    </tr>\n",
       "  </tbody>\n",
       "</table>\n",
       "<p>72 rows × 5 columns</p>\n",
       "</div>"
      ],
      "text/plain": [
       "        P       N      O                                   Target  code\n",
       "0   668.9  2100.4  641.2    BUSINESS_CONDIDIONS_6_MONTHS_FROM_NOW   0.0\n",
       "1   984.3  1920.2  502.6                   JOBS_6_MONTHS_FROM_NOW   4.0\n",
       "2   433.2  2329.1  658.5          FAMILY_INCOME_6_MONTHS_FROM_NOW   2.0\n",
       "3   132.6   219.3  147.9      BUSINESS_CONDITIONS_A_YEAR_FROM_NOW   1.0\n",
       "4   290.7   168.3   45.9         JOBS_DURING_THE_COMING_12_MONTHS   5.0\n",
       "..    ...     ...    ...                                      ...   ...\n",
       "67  565.5  1884.0  692.6                   JOBS_6_MONTHS_FROM_NOW   4.0\n",
       "68  339.9  2128.6  689.4          FAMILY_INCOME_6_MONTHS_FROM_NOW   2.0\n",
       "69   55.4   191.5  236.9      BUSINESS_CONDITIONS_A_YEAR_FROM_NOW   1.0\n",
       "70  131.0   231.8  136.1         JOBS_DURING_THE_COMING_12_MONTHS   5.0\n",
       "71   50.4   126.0  322.6  FAMILY_INCOME_DURING_THE_NEXT_12_MONTHS   3.0\n",
       "\n",
       "[72 rows x 5 columns]"
      ]
     },
     "execution_count": 7,
     "metadata": {},
     "output_type": "execute_result"
    }
   ],
   "source": [
    "data[\"code\"] = ord_enc.fit_transform(np.array(y_for_code).reshape(-1, 1))\n",
    "data"
   ]
  },
  {
   "cell_type": "code",
   "execution_count": 8,
   "id": "c5671640",
   "metadata": {},
   "outputs": [],
   "source": [
    "y = data['code']\n",
    "X = data.drop(['Target', 'code'], axis=1)"
   ]
  },
  {
   "cell_type": "code",
   "execution_count": 9,
   "id": "52a3861d",
   "metadata": {},
   "outputs": [
    {
     "data": {
      "text/plain": [
       "(        P       N      O\n",
       " 0   668.9  2100.4  641.2\n",
       " 1   984.3  1920.2  502.6\n",
       " 2   433.2  2329.1  658.5\n",
       " 3   132.6   219.3  147.9\n",
       " 4   290.7   168.3   45.9\n",
       " ..    ...     ...    ...\n",
       " 67  565.5  1884.0  692.6\n",
       " 68  339.9  2128.6  689.4\n",
       " 69   55.4   191.5  236.9\n",
       " 70  131.0   231.8  136.1\n",
       " 71   50.4   126.0  322.6\n",
       " \n",
       " [72 rows x 3 columns],\n",
       " (72, 3))"
      ]
     },
     "execution_count": 9,
     "metadata": {},
     "output_type": "execute_result"
    }
   ],
   "source": [
    "X, X.shape"
   ]
  },
  {
   "cell_type": "code",
   "execution_count": 10,
   "id": "9a234706",
   "metadata": {},
   "outputs": [
    {
     "data": {
      "text/plain": [
       "(0     0.0\n",
       " 1     4.0\n",
       " 2     2.0\n",
       " 3     1.0\n",
       " 4     5.0\n",
       "      ... \n",
       " 67    4.0\n",
       " 68    2.0\n",
       " 69    1.0\n",
       " 70    5.0\n",
       " 71    3.0\n",
       " Name: code, Length: 72, dtype: float64,\n",
       " (72,))"
      ]
     },
     "execution_count": 10,
     "metadata": {},
     "output_type": "execute_result"
    }
   ],
   "source": [
    "y, y.shape"
   ]
  },
  {
   "cell_type": "markdown",
   "id": "af443360",
   "metadata": {},
   "source": [
    "2. (1 балл) Выведите основную статистическую информацию о данных. Сделайте количественное описание датасета: число строк (объектов), число столбцов (признаков), статистику по признакам, количество классов (значений целевой переменной)."
   ]
  },
  {
   "cell_type": "code",
   "execution_count": 11,
   "id": "e37dfde2",
   "metadata": {},
   "outputs": [
    {
     "data": {
      "text/html": [
       "<div>\n",
       "<style scoped>\n",
       "    .dataframe tbody tr th:only-of-type {\n",
       "        vertical-align: middle;\n",
       "    }\n",
       "\n",
       "    .dataframe tbody tr th {\n",
       "        vertical-align: top;\n",
       "    }\n",
       "\n",
       "    .dataframe thead th {\n",
       "        text-align: right;\n",
       "    }\n",
       "</style>\n",
       "<table border=\"1\" class=\"dataframe\">\n",
       "  <thead>\n",
       "    <tr style=\"text-align: right;\">\n",
       "      <th></th>\n",
       "      <th>P</th>\n",
       "      <th>N</th>\n",
       "      <th>O</th>\n",
       "      <th>code</th>\n",
       "    </tr>\n",
       "  </thead>\n",
       "  <tbody>\n",
       "    <tr>\n",
       "      <th>count</th>\n",
       "      <td>72.000000</td>\n",
       "      <td>72.000000</td>\n",
       "      <td>72.000000</td>\n",
       "      <td>72.00000</td>\n",
       "    </tr>\n",
       "    <tr>\n",
       "      <th>mean</th>\n",
       "      <td>338.573611</td>\n",
       "      <td>1184.440278</td>\n",
       "      <td>400.640278</td>\n",
       "      <td>2.50000</td>\n",
       "    </tr>\n",
       "    <tr>\n",
       "      <th>std</th>\n",
       "      <td>263.799902</td>\n",
       "      <td>1005.269043</td>\n",
       "      <td>250.289483</td>\n",
       "      <td>1.71981</td>\n",
       "    </tr>\n",
       "    <tr>\n",
       "      <th>min</th>\n",
       "      <td>50.400000</td>\n",
       "      <td>120.200000</td>\n",
       "      <td>45.900000</td>\n",
       "      <td>0.00000</td>\n",
       "    </tr>\n",
       "    <tr>\n",
       "      <th>25%</th>\n",
       "      <td>89.200000</td>\n",
       "      <td>209.050000</td>\n",
       "      <td>150.300000</td>\n",
       "      <td>1.00000</td>\n",
       "    </tr>\n",
       "    <tr>\n",
       "      <th>50%</th>\n",
       "      <td>309.950000</td>\n",
       "      <td>1067.400000</td>\n",
       "      <td>359.200000</td>\n",
       "      <td>2.50000</td>\n",
       "    </tr>\n",
       "    <tr>\n",
       "      <th>75%</th>\n",
       "      <td>474.225000</td>\n",
       "      <td>2171.025000</td>\n",
       "      <td>620.125000</td>\n",
       "      <td>4.00000</td>\n",
       "    </tr>\n",
       "    <tr>\n",
       "      <th>max</th>\n",
       "      <td>1051.600000</td>\n",
       "      <td>2567.000000</td>\n",
       "      <td>899.100000</td>\n",
       "      <td>5.00000</td>\n",
       "    </tr>\n",
       "  </tbody>\n",
       "</table>\n",
       "</div>"
      ],
      "text/plain": [
       "                 P            N           O      code\n",
       "count    72.000000    72.000000   72.000000  72.00000\n",
       "mean    338.573611  1184.440278  400.640278   2.50000\n",
       "std     263.799902  1005.269043  250.289483   1.71981\n",
       "min      50.400000   120.200000   45.900000   0.00000\n",
       "25%      89.200000   209.050000  150.300000   1.00000\n",
       "50%     309.950000  1067.400000  359.200000   2.50000\n",
       "75%     474.225000  2171.025000  620.125000   4.00000\n",
       "max    1051.600000  2567.000000  899.100000   5.00000"
      ]
     },
     "execution_count": 11,
     "metadata": {},
     "output_type": "execute_result"
    }
   ],
   "source": [
    "data.describe()"
   ]
  },
  {
   "cell_type": "code",
   "execution_count": 12,
   "id": "19ec7c3f",
   "metadata": {},
   "outputs": [
    {
     "name": "stdout",
     "output_type": "stream",
     "text": [
      "Количество строк: 72, Количество столбцов: 3\n",
      "Количесвто классов: 6\n"
     ]
    }
   ],
   "source": [
    "print(f'Количество строк: {X.shape[0]}, Количество столбцов: {X.shape[1]}')\n",
    "print(f'Количесвто классов: {len(y.unique())}')"
   ]
  },
  {
   "cell_type": "markdown",
   "id": "5f7be587",
   "metadata": {},
   "source": [
    "3. (1 балл) Убедитесь, что данные пригодны для моделирования. В данных не должно быть пропущенных значений, ве признаки должны быть численными. Если эти условия нарушаются, исправьте это."
   ]
  },
  {
   "cell_type": "code",
   "execution_count": 64,
   "id": "5d1335cf",
   "metadata": {
    "collapsed": true
   },
   "outputs": [
    {
     "name": "stdout",
     "output_type": "stream",
     "text": [
      "<class 'pandas.core.frame.DataFrame'>\n",
      "RangeIndex: 72 entries, 0 to 71\n",
      "Data columns (total 5 columns):\n",
      " #   Column  Non-Null Count  Dtype   \n",
      "---  ------  --------------  -----   \n",
      " 0   P       72 non-null     float64 \n",
      " 1   N       72 non-null     float64 \n",
      " 2   O       72 non-null     float64 \n",
      " 3   Target  72 non-null     category\n",
      " 4   code    72 non-null     float64 \n",
      "dtypes: category(1), float64(4)\n",
      "memory usage: 2.7 KB\n"
     ]
    }
   ],
   "source": [
    "data.info()"
   ]
  },
  {
   "cell_type": "markdown",
   "id": "11a03454",
   "metadata": {},
   "source": [
    "Перевод категориальных данных в численные был проведен в 1 пункте."
   ]
  },
  {
   "cell_type": "markdown",
   "id": "1a910621",
   "metadata": {},
   "source": [
    "4. (2 балла) Обучите модель логистической регрессии на рассматриваемых данных из библиотеки `sklearn`. Рассчитайте метрики accuracy и выведите таблицу классификации.\n"
   ]
  },
  {
   "cell_type": "code",
   "execution_count": 13,
   "id": "0fe0db25",
   "metadata": {},
   "outputs": [],
   "source": [
    "from sklearn.linear_model import LogisticRegression"
   ]
  },
  {
   "cell_type": "code",
   "execution_count": 14,
   "id": "f4b0f04f",
   "metadata": {},
   "outputs": [
    {
     "name": "stdout",
     "output_type": "stream",
     "text": [
      "Время обучения модели: 0.646952 sec\n",
      "Коэффициента детерминации: 0.903\n"
     ]
    }
   ],
   "source": [
    "log_model = LogisticRegression(solver='lbfgs', max_iter=5000)\n",
    "\n",
    "start = time.perf_counter()\n",
    "log_model.fit(X, y)\n",
    "result_time_log = time.perf_counter() - start\n",
    "score_log = log_model.score(X, y)\n",
    "\n",
    "print(f'Время обучения модели: {result_time_log:.6f} sec')\n",
    "print(f'Коэффициента детерминации: {score_log:.3f}')"
   ]
  },
  {
   "cell_type": "code",
   "execution_count": 18,
   "id": "124ace14",
   "metadata": {},
   "outputs": [],
   "source": [
    "from sklearn.metrics import accuracy_score, confusion_matrix"
   ]
  },
  {
   "cell_type": "code",
   "execution_count": 134,
   "id": "489dca07",
   "metadata": {
    "scrolled": true
   },
   "outputs": [
    {
     "name": "stdout",
     "output_type": "stream",
     "text": [
      "Точность модели: 0.9028\n"
     ]
    }
   ],
   "source": [
    "y_pred = log_model.predict(X)\n",
    "accuracy_log = accuracy_score(y, y_pred)\n",
    "print(f'Точность модели: {accuracy_log.round(4)}')"
   ]
  },
  {
   "cell_type": "code",
   "execution_count": 83,
   "id": "3c3c8beb",
   "metadata": {
    "collapsed": true
   },
   "outputs": [
    {
     "data": {
      "text/plain": [
       "array([[ 7,  0,  3,  0,  2,  0],\n",
       "       [ 0, 12,  0,  0,  0,  0],\n",
       "       [ 1,  0, 11,  0,  0,  0],\n",
       "       [ 0,  0,  0, 12,  0,  0],\n",
       "       [ 1,  0,  0,  0, 11,  0],\n",
       "       [ 0,  0,  0,  0,  0, 12]], dtype=int64)"
      ]
     },
     "execution_count": 83,
     "metadata": {},
     "output_type": "execute_result"
    }
   ],
   "source": [
    "confusion_matrix(y, y_pred) #Матрица классификации"
   ]
  },
  {
   "cell_type": "code",
   "execution_count": 86,
   "id": "225ecd9a",
   "metadata": {
    "collapsed": true
   },
   "outputs": [
    {
     "data": {
      "text/plain": [
       "<AxesSubplot:>"
      ]
     },
     "execution_count": 86,
     "metadata": {},
     "output_type": "execute_result"
    },
    {
     "data": {
      "image/png": "[encoded data removed]",
      "text/plain": [
       "<Figure size 640x480 with 2 Axes>"
      ]
     },
     "metadata": {},
     "output_type": "display_data"
    }
   ],
   "source": [
    "sns.heatmap(confusion_matrix(y, y_pred), annot=True)"
   ]
  },
  {
   "cell_type": "markdown",
   "id": "b84a80aa",
   "metadata": {},
   "source": [
    "Вывод по матрице классификации: класс \"0\" был правильно предсказан 7 раз и 2 раза был отнесен ко \"2\" и \"4\" классам. Все объекты \"1\", \"3\", \"5\" классов были распознаны правильно. Несколько объектов \"2\" и \"4\" классов ошибочно были приняты за \"1\" класс и \"0\" соответственно."
   ]
  },
  {
   "cell_type": "markdown",
   "id": "7280b058",
   "metadata": {},
   "source": [
    "5. (2 балла) Обучите полиномиальную модель классификации. Рассчитайте метрики accuracy и выведите таблицу классификации. Попробуйте разные степени полинома и выберите ту, которая работает лучше."
   ]
  },
  {
   "cell_type": "code",
   "execution_count": 16,
   "id": "bd9a4595",
   "metadata": {},
   "outputs": [],
   "source": [
    "from sklearn.preprocessing import PolynomialFeatures"
   ]
  },
  {
   "cell_type": "code",
   "execution_count": 20,
   "id": "1e20557f",
   "metadata": {},
   "outputs": [
    {
     "name": "stdout",
     "output_type": "stream",
     "text": [
      "Время обучения модели с полиномом 3-ой степени: 3.820272 sec\n",
      "Точность модели: 1.0\n"
     ]
    },
    {
     "data": {
      "image/png": "[encoded data removed]",
      "text/plain": [
       "<Figure size 640x480 with 2 Axes>"
      ]
     },
     "metadata": {},
     "output_type": "display_data"
    },
    {
     "name": "stderr",
     "output_type": "stream",
     "text": [
      "C:\\anaconda3\\lib\\site-packages\\sklearn\\linear_model\\_logistic.py:814: ConvergenceWarning: lbfgs failed to converge (status=2):\n",
      "ABNORMAL_TERMINATION_IN_LNSRCH.\n",
      "\n",
      "Increase the number of iterations (max_iter) or scale the data as shown in:\n",
      "    https://scikit-learn.org/stable/modules/preprocessing.html\n",
      "Please also refer to the documentation for alternative solver options:\n",
      "    https://scikit-learn.org/stable/modules/linear_model.html#logistic-regression\n",
      "  n_iter_i = _check_optimize_result(\n"
     ]
    },
    {
     "name": "stdout",
     "output_type": "stream",
     "text": [
      "Время обучения модели с полиномом 5-ой степени: 0.019973 sec\n",
      "Точность модели: 0.1667\n"
     ]
    },
    {
     "data": {
      "image/png": "[encoded data removed]",
      "text/plain": [
       "<Figure size 640x480 with 2 Axes>"
      ]
     },
     "metadata": {},
     "output_type": "display_data"
    },
    {
     "name": "stderr",
     "output_type": "stream",
     "text": [
      "C:\\anaconda3\\lib\\site-packages\\sklearn\\linear_model\\_logistic.py:814: ConvergenceWarning: lbfgs failed to converge (status=2):\n",
      "ABNORMAL_TERMINATION_IN_LNSRCH.\n",
      "\n",
      "Increase the number of iterations (max_iter) or scale the data as shown in:\n",
      "    https://scikit-learn.org/stable/modules/preprocessing.html\n",
      "Please also refer to the documentation for alternative solver options:\n",
      "    https://scikit-learn.org/stable/modules/linear_model.html#logistic-regression\n",
      "  n_iter_i = _check_optimize_result(\n"
     ]
    },
    {
     "name": "stdout",
     "output_type": "stream",
     "text": [
      "Время обучения модели с полиномом 10-ой степени: 0.024216 sec\n",
      "Точность модели: 0.1667\n"
     ]
    },
    {
     "data": {
      "image/png": "[encoded data removed]",
      "text/plain": [
       "<Figure size 640x480 with 2 Axes>"
      ]
     },
     "metadata": {},
     "output_type": "display_data"
    },
    {
     "name": "stderr",
     "output_type": "stream",
     "text": [
      "C:\\anaconda3\\lib\\site-packages\\sklearn\\linear_model\\_logistic.py:814: ConvergenceWarning: lbfgs failed to converge (status=2):\n",
      "ABNORMAL_TERMINATION_IN_LNSRCH.\n",
      "\n",
      "Increase the number of iterations (max_iter) or scale the data as shown in:\n",
      "    https://scikit-learn.org/stable/modules/preprocessing.html\n",
      "Please also refer to the documentation for alternative solver options:\n",
      "    https://scikit-learn.org/stable/modules/linear_model.html#logistic-regression\n",
      "  n_iter_i = _check_optimize_result(\n"
     ]
    },
    {
     "name": "stdout",
     "output_type": "stream",
     "text": [
      "Время обучения модели с полиномом 15-ой степени: 0.033176 sec\n",
      "Точность модели: 0.1667\n"
     ]
    },
    {
     "data": {
      "image/png": "[encoded data removed]",
      "text/plain": [
       "<Figure size 640x480 with 2 Axes>"
      ]
     },
     "metadata": {},
     "output_type": "display_data"
    }
   ],
   "source": [
    "degrees = [3, 5, 10, 15]\n",
    "times_poly = []\n",
    "accur_poly = []\n",
    "\n",
    "for degree in degrees:\n",
    "    transformation = PolynomialFeatures(degree=degree)\n",
    "    transformation.fit(X)\n",
    "    X_transform = transformation.transform(X)\n",
    "    \n",
    "    start = time.perf_counter()\n",
    "    logistic = LogisticRegression(solver='lbfgs', max_iter=7000).fit(X_transform, y)\n",
    "    result_time_poly = time.perf_counter() - start\n",
    "    \n",
    "    y_pred_poly = logistic.predict(X_transform)\n",
    "    accuracy_poly = accuracy_score(y, y_pred_poly)\n",
    "    \n",
    "    print(f'Время обучения модели с полиномом {degree}-ой степени: {result_time_poly:.6f} sec')\n",
    "    print(f'Точность модели: {accuracy_poly.round(4)}')\n",
    "    \n",
    "    sns.heatmap(confusion_matrix(y, y_pred_poly), annot=True)\n",
    "    plt.title(f'Степень полинома {degree}')\n",
    "    plt.show()\n",
    "    \n",
    "    times_poly.append(result_time_poly)\n",
    "    accur_poly.append(accuracy_poly)"
   ]
  },
  {
   "cell_type": "markdown",
   "id": "b7567a08",
   "metadata": {},
   "source": [
    "Вывод: при значении степени полинома 3 модель эффективность модели равняется 97%, что является очень хорошим результатом. Полиномы большей степени приведут к переобучению модели, поэтому их использование нецелесообразно. "
   ]
  },
  {
   "cell_type": "markdown",
   "id": "c9061652",
   "metadata": {},
   "source": [
    "6. (2 балла) Обучите модель классификации по методу опорных векторов. Рассчитайте метрики accuracy и выведите таблицу классификации. Попробуйте разные ядерные функции и выберите ту, которая работает лучше."
   ]
  },
  {
   "cell_type": "code",
   "execution_count": 21,
   "id": "00470d3d",
   "metadata": {},
   "outputs": [],
   "source": [
    "from sklearn.svm import SVC"
   ]
  },
  {
   "cell_type": "code",
   "execution_count": 22,
   "id": "c0bd14bd",
   "metadata": {},
   "outputs": [
    {
     "data": {
      "image/png": "[encoded data removed]",
      "text/plain": [
       "<Figure size 640x480 with 2 Axes>"
      ]
     },
     "metadata": {},
     "output_type": "display_data"
    },
    {
     "name": "stdout",
     "output_type": "stream",
     "text": [
      "Время обучения модели с ядерной функцией linear: 0.142891 sec\n",
      "Точность работы модели: 0.9167\n"
     ]
    },
    {
     "data": {
      "image/png": "[encoded data removed]",
      "text/plain": [
       "<Figure size 640x480 with 2 Axes>"
      ]
     },
     "metadata": {},
     "output_type": "display_data"
    },
    {
     "name": "stdout",
     "output_type": "stream",
     "text": [
      "Время обучения модели с ядерной функцией poly: 0.004220 sec\n",
      "Точность работы модели: 0.9167\n"
     ]
    },
    {
     "data": {
      "image/png": "[encoded data removed]",
      "text/plain": [
       "<Figure size 640x480 with 2 Axes>"
      ]
     },
     "metadata": {},
     "output_type": "display_data"
    },
    {
     "name": "stdout",
     "output_type": "stream",
     "text": [
      "Время обучения модели с ядерной функцией rbf: 0.005166 sec\n",
      "Точность работы модели: 0.9028\n"
     ]
    },
    {
     "data": {
      "image/png": "[encoded data removed]",
      "text/plain": [
       "<Figure size 640x480 with 2 Axes>"
      ]
     },
     "metadata": {},
     "output_type": "display_data"
    },
    {
     "name": "stdout",
     "output_type": "stream",
     "text": [
      "Время обучения модели с ядерной функцией sigmoid: 0.004381 sec\n",
      "Точность работы модели: 0.6528\n"
     ]
    }
   ],
   "source": [
    "kernels = ['linear', 'poly', 'rbf', 'sigmoid']\n",
    "times_svm = []\n",
    "accur_svm = []\n",
    "\n",
    "for kernel in kernels:\n",
    "    svm_linear = SVC(kernel=kernel, C=100)\n",
    "    \n",
    "    start = time.perf_counter()\n",
    "    svm_linear_model = svm_linear.fit(X, y)\n",
    "    result_time_svm = time.perf_counter() - start\n",
    "    \n",
    "    y_pred_svm = svm_linear.predict(X)\n",
    "    accuracy_svm = accuracy_score(y, y_pred_svm)\n",
    "    \n",
    "    sns.heatmap(confusion_matrix(y, y_pred_svm), annot=True,)\n",
    "    plt.title(f'Ядерная функция: {kernel}')\n",
    "    plt.show()\n",
    "    \n",
    "    print(f'Время обучения модели с ядерной функцией {kernel}: {result_time_svm:.6f} sec')\n",
    "    print(f'Точность работы модели: {accuracy_svm.round(4)}')\n",
    "    \n",
    "    times_svm.append(result_time_svm)\n",
    "    accur_svm.append(accuracy_svm)"
   ]
  },
  {
   "cell_type": "markdown",
   "id": "f83ca671",
   "metadata": {},
   "source": [
    "Вывод: Медленне всего сработала модель с линейным ядром. Однако точность у моделей с линейным, гауссовым и полимиальным ядрами различается всего на приблизительно 0,01 часть или вовсе равны. Что нельзя сказать о модели с сигмоидным ядром: она сработала хуже всех с точностью 65%"
   ]
  },
  {
   "cell_type": "markdown",
   "id": "b842530a",
   "metadata": {},
   "source": [
    "7. (1 балл) Обучите модель классификации Перцептрон. Рассчитайте метрики accuracy и выведите таблицу классификации."
   ]
  },
  {
   "cell_type": "code",
   "execution_count": 129,
   "id": "be987476",
   "metadata": {},
   "outputs": [],
   "source": [
    "from sklearn.linear_model import Perceptron"
   ]
  },
  {
   "cell_type": "code",
   "execution_count": 208,
   "id": "90e3efd0",
   "metadata": {},
   "outputs": [
    {
     "data": {
      "image/png": "[encoded data removed]",
      "text/plain": [
       "<Figure size 640x480 with 2 Axes>"
      ]
     },
     "metadata": {},
     "output_type": "display_data"
    },
    {
     "name": "stdout",
     "output_type": "stream",
     "text": [
      "Время обучения модели: 0.015729 sec\n",
      "Точность работы модели: 0.5139\n"
     ]
    }
   ],
   "source": [
    "class_perceptron = Perceptron(max_iter=100, random_state=3)\n",
    "start = time.perf_counter()\n",
    "class_perceptron.fit(X, y)\n",
    "result_time_perc = time.perf_counter() - start\n",
    "y_pred_perc = class_perceptron.predict(X)\n",
    "accuracy_perc = accuracy_score(y, y_pred_perc)\n",
    "\n",
    "sns.heatmap(confusion_matrix(y, y_pred_svm), annot=True,)\n",
    "plt.title(f'Перцептрон')\n",
    "plt.show()\n",
    "\n",
    "print(f'Время обучения модели: {result_time_perc:.6f} sec')\n",
    "print(f'Точность работы модели: {accuracy_perc.round(4)}')"
   ]
  },
  {
   "cell_type": "markdown",
   "id": "304451f1",
   "metadata": {},
   "source": [
    "8. (2 балла) Выведите итоговую таблицу сравнения всех моделей. В таблице должна быть информация о эффективности и времени обучения каждой модели. Сделайте вывод о применимости и эффективности моделей для классификации объектов в данной задаче."
   ]
  },
  {
   "cell_type": "code",
   "execution_count": 199,
   "id": "cc3f96ae",
   "metadata": {},
   "outputs": [],
   "source": [
    "table_log = pd.DataFrame({'Model': ['Logistic Regression'], \n",
    "                          'Accuracy': accuracy_log,\n",
    "                         'Training time': result_time_log,\n",
    "                         'Degree': 1})\n",
    "\n",
    "table_poly = pd.DataFrame({'Model': ['Polynomial classification'], \n",
    "                          'Accuracy': accur_poly[0],\n",
    "                         'Training time': times_poly[0],\n",
    "                          'Degree': degrees[0]})\n",
    "\n",
    "table_svm = pd.DataFrame({'Model': ['SVM classification' for _ in range(4)],\n",
    "                          'Accuracy': accur_svm,\n",
    "                         'Training time': times_svm,\n",
    "                         'Kernel': kernels})\n",
    "\n",
    "table_perc = pd.DataFrame({'Model': ['Perceptron'], \n",
    "                          'Accuracy': accuracy_perc,\n",
    "                         'Training time': result_time_perc})"
   ]
  },
  {
   "cell_type": "code",
   "execution_count": 202,
   "id": "0bafabc5",
   "metadata": {},
   "outputs": [
    {
     "data": {
      "text/html": [
       "<div>\n",
       "<style scoped>\n",
       "    .dataframe tbody tr th:only-of-type {\n",
       "        vertical-align: middle;\n",
       "    }\n",
       "\n",
       "    .dataframe tbody tr th {\n",
       "        vertical-align: top;\n",
       "    }\n",
       "\n",
       "    .dataframe thead th {\n",
       "        text-align: right;\n",
       "    }\n",
       "</style>\n",
       "<table border=\"1\" class=\"dataframe\">\n",
       "  <thead>\n",
       "    <tr style=\"text-align: right;\">\n",
       "      <th></th>\n",
       "      <th>Model</th>\n",
       "      <th>Accuracy</th>\n",
       "      <th>Training time</th>\n",
       "      <th>Degree</th>\n",
       "      <th>Kernel</th>\n",
       "    </tr>\n",
       "  </thead>\n",
       "  <tbody>\n",
       "    <tr>\n",
       "      <th>0</th>\n",
       "      <td>Logistic Regression</td>\n",
       "      <td>0.902778</td>\n",
       "      <td>0.391936</td>\n",
       "      <td>1.0</td>\n",
       "      <td>NaN</td>\n",
       "    </tr>\n",
       "    <tr>\n",
       "      <th>0</th>\n",
       "      <td>Polynomial classification</td>\n",
       "      <td>0.972222</td>\n",
       "      <td>2.045944</td>\n",
       "      <td>3.0</td>\n",
       "      <td>NaN</td>\n",
       "    </tr>\n",
       "    <tr>\n",
       "      <th>0</th>\n",
       "      <td>SVM classification</td>\n",
       "      <td>0.916667</td>\n",
       "      <td>0.109404</td>\n",
       "      <td>NaN</td>\n",
       "      <td>linear</td>\n",
       "    </tr>\n",
       "    <tr>\n",
       "      <th>1</th>\n",
       "      <td>SVM classification</td>\n",
       "      <td>0.916667</td>\n",
       "      <td>0.002759</td>\n",
       "      <td>NaN</td>\n",
       "      <td>poly</td>\n",
       "    </tr>\n",
       "    <tr>\n",
       "      <th>2</th>\n",
       "      <td>SVM classification</td>\n",
       "      <td>0.902778</td>\n",
       "      <td>0.004091</td>\n",
       "      <td>NaN</td>\n",
       "      <td>rbf</td>\n",
       "    </tr>\n",
       "    <tr>\n",
       "      <th>3</th>\n",
       "      <td>SVM classification</td>\n",
       "      <td>0.652778</td>\n",
       "      <td>0.003495</td>\n",
       "      <td>NaN</td>\n",
       "      <td>sigmoid</td>\n",
       "    </tr>\n",
       "    <tr>\n",
       "      <th>0</th>\n",
       "      <td>Perceptron</td>\n",
       "      <td>0.513889</td>\n",
       "      <td>0.012688</td>\n",
       "      <td>NaN</td>\n",
       "      <td>NaN</td>\n",
       "    </tr>\n",
       "  </tbody>\n",
       "</table>\n",
       "</div>"
      ],
      "text/plain": [
       "                       Model  Accuracy  Training time  Degree   Kernel\n",
       "0        Logistic Regression  0.902778       0.391936     1.0      NaN\n",
       "0  Polynomial classification  0.972222       2.045944     3.0      NaN\n",
       "0         SVM classification  0.916667       0.109404     NaN   linear\n",
       "1         SVM classification  0.916667       0.002759     NaN     poly\n",
       "2         SVM classification  0.902778       0.004091     NaN      rbf\n",
       "3         SVM classification  0.652778       0.003495     NaN  sigmoid\n",
       "0                 Perceptron  0.513889       0.012688     NaN      NaN"
      ]
     },
     "execution_count": 202,
     "metadata": {},
     "output_type": "execute_result"
    }
   ],
   "source": [
    "pd.concat([table_log, table_poly, table_svm, table_perc], axis=0)"
   ]
  },
  {
   "cell_type": "markdown",
   "id": "37fb3f9c",
   "metadata": {},
   "source": [
    "Вывод: В данной задачи можно применить логистическую, полиномиальную модель 3 степени или модели с использованием метода опорных векторов таких ядер, как полиномиальное, Гауссово и линейное. "
   ]
  }
 ],
 "metadata": {
  "kernelspec": {
   "display_name": "Python 3 (ipykernel)",
   "language": "python",
   "name": "python3"
  },
  "language_info": {
   "codemirror_mode": {
    "name": "ipython",
    "version": 3
   },
   "file_extension": ".py",
   "mimetype": "text/x-python",
   "name": "python",
   "nbconvert_exporter": "python",
   "pygments_lexer": "ipython3",
   "version": "3.9.13"
  }
 },
 "nbformat": 4,
 "nbformat_minor": 5
}
